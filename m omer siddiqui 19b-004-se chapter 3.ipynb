{
 "cells": [
  {
   "cell_type": "code",
   "execution_count": null,
   "metadata": {
    "scrolled": true
   },
   "outputs": [],
   "source": [
    "#practice problem 3.`1\n",
    "fahrenheit = float(input(\"enter the temprature in degrees fahrenheit: \"))\n",
    "celcius = 5/9*(fahrenheit-32)\n",
    "print(\"the temprature in degree celcius is :\",celcius)"
   ]
  },
  {
   "cell_type": "code",
   "execution_count": 2,
   "metadata": {},
   "outputs": [
    {
     "name": "stdout",
     "output_type": "stream",
     "text": [
      "enter age62\n",
      "you can get your pension benefits\n"
     ]
    }
   ],
   "source": [
    "#practice problem 3.`2\n",
    "age=int(input(\"enter age\"))\n",
    "if age>=62:\n",
    "    print(\"you can get your pension benefits\")\n",
    "else:\n",
    "    print(\"you cannot get your pension benefits\")"
   ]
  },
  {
   "cell_type": "code",
   "execution_count": 27,
   "metadata": {},
   "outputs": [
    {
     "name": "stdout",
     "output_type": "stream",
     "text": [
      "enter nameomer\n",
      "other player\n",
      "enter hit25\n",
      "you are dead!\n"
     ]
    }
   ],
   "source": [
    "lst=['musial','aaron','williams','gehrig','ruth']\n",
    "p=str(input(\"enter name\"))\n",
    "if p in lst:\n",
    "    print(\"one of the top 5 baseball players,ever!\")\n",
    "else:\n",
    "    print(\"other player\")\n",
    "    sheild=0\n",
    "    hits=int(input(\"enter hit\"))\n",
    "    if hits>10 and sheild==0:\n",
    "        print(\"you are dead!\")\n",
    "    else:\n",
    "        print(\"you still alive\")\n",
    "    \n",
    "        if north or south or east or west:\n",
    "            print(\"i can escape\")"
   ]
  },
  {
   "cell_type": "code",
   "execution_count": 31,
   "metadata": {},
   "outputs": [
    {
     "name": "stdout",
     "output_type": "stream",
     "text": [
      "enter year2000\n",
      "definitely a leap year\n",
      "you won\n"
     ]
    }
   ],
   "source": [
    "year=int(input(\"enter year\"))\n",
    "if year%4:\n",
    "    print(\"could be a leap year\")\n",
    "else:\n",
    "    print(\"definitely a leap year\")\n",
    "    ticket=[3,4]\n",
    "    lottery=[3,4]\n",
    "    if ticket == lottery:\n",
    "        print(\"you won\")\n",
    "    else:\n",
    "        print(\"better luck next time\")"
   ]
  },
  {
   "cell_type": "code",
   "execution_count": 34,
   "metadata": {},
   "outputs": [
    {
     "name": "stdout",
     "output_type": "stream",
     "text": [
      "enter login id:omer\n",
      "user unknown\n",
      "done\n"
     ]
    }
   ],
   "source": [
    "#3.4 \n",
    "lst=['john','joe','hani','sue','sophie']\n",
    "l=str(input(\"enter login id:\"))\n",
    "if l in lst:\n",
    "    print(\"you are in !\")\n",
    "    print(\"done\")\n",
    "else:\n",
    "    print(\"user unknown\")\n",
    "    print(\"done\")"
   ]
  },
  {
   "cell_type": "code",
   "execution_count": 3,
   "metadata": {},
   "outputs": [
    {
     "name": "stdout",
     "output_type": "stream",
     "text": [
      "enter a wordmoiz\n",
      "the word spelled out\n",
      "m\n",
      "o\n",
      "i\n",
      "z\n"
     ]
    }
   ],
   "source": [
    "#3.5\n",
    "i=input(\"enter a word\")\n",
    "print(\"the word spelled out\")\n",
    "for char in i:\n",
    "    print(char)"
   ]
  },
  {
   "cell_type": "code",
   "execution_count": 6,
   "metadata": {},
   "outputs": [
    {
     "name": "stdout",
     "output_type": "stream",
     "text": [
      "enter word list omer\n"
     ]
    }
   ],
   "source": [
    "l=str(input(\"enter word list \"))\n",
    "for char in l:\n",
    "    if len(char)==4:\n",
    "        print(char)"
   ]
  },
  {
   "cell_type": "code",
   "execution_count": 8,
   "metadata": {},
   "outputs": [
    {
     "name": "stdout",
     "output_type": "stream",
     "text": [
      "0\n",
      "0\n",
      "1\n",
      "1\n",
      "0\n",
      "1\n",
      "2\n",
      "0\n",
      "1\n",
      "3\n",
      "0\n",
      "1\n",
      "4\n",
      "0\n",
      "1\n",
      "5\n",
      "0\n",
      "1\n",
      "6\n",
      "0\n",
      "1\n",
      "7\n",
      "0\n",
      "1\n",
      "8\n",
      "0\n",
      "1\n",
      "9\n",
      "0\n",
      "1\n"
     ]
    }
   ],
   "source": [
    "for i in range(10):\n",
    "    print(i)\n",
    "    for i in range(2):\n",
    "        print(i)"
   ]
  },
  {
   "cell_type": "code",
   "execution_count": 12,
   "metadata": {},
   "outputs": [
    {
     "name": "stdout",
     "output_type": "stream",
     "text": [
      "3\n",
      "4\n",
      "5\n",
      "6\n",
      "7\n",
      "8\n",
      "9\n",
      "10\n",
      "11\n",
      "12\n"
     ]
    }
   ],
   "source": [
    "for i in range(3,13):\n",
    "    print(i)"
   ]
  },
  {
   "cell_type": "code",
   "execution_count": 17,
   "metadata": {},
   "outputs": [
    {
     "name": "stdout",
     "output_type": "stream",
     "text": [
      "0\n",
      "2\n",
      "4\n",
      "6\n",
      "8\n"
     ]
    }
   ],
   "source": [
    "for i in range(0, 10,2):\n",
    "    print(i)"
   ]
  },
  {
   "cell_type": "code",
   "execution_count": 20,
   "metadata": {},
   "outputs": [
    {
     "name": "stdout",
     "output_type": "stream",
     "text": [
      "0\n",
      "3\n",
      "6\n",
      "9\n",
      "12\n",
      "15\n",
      "18\n",
      "21\n"
     ]
    }
   ],
   "source": [
    "    for i in range(0, 24, 3):\n",
    "        print(i)"
   ]
  },
  {
   "cell_type": "code",
   "execution_count": 22,
   "metadata": {},
   "outputs": [
    {
     "name": "stdout",
     "output_type": "stream",
     "text": [
      "3\n",
      "8\n"
     ]
    }
   ],
   "source": [
    "    for i in range(3, 12, 5):\n",
    "        print(i)"
   ]
  },
  {
   "cell_type": "code",
   "execution_count": 26,
   "metadata": {},
   "outputs": [
    {
     "data": {
      "text/plain": [
       "12.566370614359172"
      ]
     },
     "execution_count": 26,
     "metadata": {},
     "output_type": "execute_result"
    }
   ],
   "source": [
    "import math \n",
    "def perimeter(r):\n",
    "    per=2*math.pi*r\n",
    "    return per\n",
    "perimeter(2)"
   ]
  },
  {
   "cell_type": "code",
   "execution_count": 25,
   "metadata": {},
   "outputs": [
    {
     "name": "stdout",
     "output_type": "stream",
     "text": [
      "Help on function average in module __main__:\n",
      "\n",
      "average(n1, n2)\n",
      "\n"
     ]
    },
    {
     "data": {
      "text/plain": [
       "5.5"
      ]
     },
     "execution_count": 25,
     "metadata": {},
     "output_type": "execute_result"
    }
   ],
   "source": [
    "def average(n1,n2):\n",
    "    avg=(n1+n2)/2\n",
    "    return avg\n",
    "help(average)\n",
    "average(5,6)"
   ]
  },
  {
   "cell_type": "code",
   "execution_count": 8,
   "metadata": {},
   "outputs": [
    {
     "data": {
      "text/plain": [
       "False"
      ]
     },
     "execution_count": 8,
     "metadata": {},
     "output_type": "execute_result"
    }
   ],
   "source": [
    "def noVowel(s):\n",
    "    for c in s:\n",
    "        if (c in 'aeiou')or(c in 'AEIOU'):\n",
    "            return False\n",
    "        return True\n",
    "noVowel('a')"
   ]
  },
  {
   "cell_type": "code",
   "execution_count": 21,
   "metadata": {},
   "outputs": [
    {
     "data": {
      "text/plain": [
       "False"
      ]
     },
     "execution_count": 21,
     "metadata": {},
     "output_type": "execute_result"
    }
   ],
   "source": [
    "def alleven(list):\n",
    "    for x in list:\n",
    "        if x%2 != 0:\n",
    "            return False\n",
    "        return True\n",
    "alleven([9])"
   ]
  },
  {
   "cell_type": "code",
   "execution_count": 28,
   "metadata": {},
   "outputs": [
    {
     "name": "stdout",
     "output_type": "stream",
     "text": [
      "-1\n",
      "Help on function negatives in module __main__:\n",
      "\n",
      "negatives(list)\n",
      "\n",
      "-3\n",
      "Help on function negatives in module __main__:\n",
      "\n",
      "negatives(list)\n",
      "\n",
      "-9\n",
      "Help on function negatives in module __main__:\n",
      "\n",
      "negatives(list)\n",
      "\n"
     ]
    }
   ],
   "source": [
    "def negatives(list):\n",
    "    for x in list:\n",
    "        if x <0:\n",
    "            print(x)\n",
    "            help(negatives)\n",
    "negatives([4,0,-1,-3,6,-9])"
   ]
  },
  {
   "cell_type": "code",
   "execution_count": 31,
   "metadata": {},
   "outputs": [
    {
     "name": "stdout",
     "output_type": "stream",
     "text": [
      "[5, 6, 7]\n",
      "3\n"
     ]
    }
   ],
   "source": [
    "a=[5,6,7]\n",
    "b=a\n",
    "a=3\n",
    "print(b)\n",
    "print(a)"
   ]
  },
  {
   "cell_type": "code",
   "execution_count": 34,
   "metadata": {},
   "outputs": [
    {
     "name": "stdout",
     "output_type": "stream",
     "text": [
      "['sarah', 'eleanor', 'clare', 'ava']\n"
     ]
    }
   ],
   "source": [
    "team=['ava','eleanor','clare','sarah']\n",
    "team[0],team[-1]=team[-1],team[0]\n",
    "print(team)"
   ]
  },
  {
   "cell_type": "code",
   "execution_count": 39,
   "metadata": {},
   "outputs": [
    {
     "name": "stdout",
     "output_type": "stream",
     "text": [
      "['apples', 'sugar', 'butter', 'flour']\n"
     ]
    }
   ],
   "source": [
    "def swapFL():\n",
    "    ingrediants=['flour','sugar','butter','apples']\n",
    "    ingrediants[0],ingrediants[-1]=ingrediants[-1],ingrediants[0]\n",
    "    print(ingrediants)\n",
    "swapFL()"
   ]
  },
  {
   "cell_type": "code",
   "execution_count": 46,
   "metadata": {},
   "outputs": [
    {
     "name": "stdout",
     "output_type": "stream",
     "text": [
      "7\n"
     ]
    }
   ],
   "source": [
    "#exercises\n",
    "a=2*3+1\n",
    "print(eval('a'))"
   ]
  },
  {
   "cell_type": "code",
   "execution_count": 51,
   "metadata": {},
   "outputs": [
    {
     "name": "stdout",
     "output_type": "stream",
     "text": [
      "hello\n"
     ]
    }
   ],
   "source": [
    "b='hello'\n",
    "print(eval('b'))"
   ]
  },
  {
   "cell_type": "code",
   "execution_count": 59,
   "metadata": {},
   "outputs": [
    {
     "name": "stdout",
     "output_type": "stream",
     "text": [
      "hello   world!\n"
     ]
    }
   ],
   "source": [
    "a='hello'\n",
    "b='   '\n",
    "c='world!'\n",
    "d=a+b+c\n",
    "print(eval('d'))"
   ]
  },
  {
   "cell_type": "code",
   "execution_count": 65,
   "metadata": {},
   "outputs": [
    {
     "name": "stdout",
     "output_type": "stream",
     "text": [
      "2\n"
     ]
    }
   ],
   "source": [
    "a='ASCII'\n",
    "b=a.count('I')\n",
    "print(eval('b'))"
   ]
  },
  {
   "cell_type": "code",
   "execution_count": 67,
   "metadata": {},
   "outputs": [
    {
     "name": "stdout",
     "output_type": "stream",
     "text": [
      "x=5\n"
     ]
    }
   ],
   "source": [
    "a='x=5'\n",
    "print(eval('a'))"
   ]
  },
  {
   "cell_type": "code",
   "execution_count": 70,
   "metadata": {},
   "outputs": [
    {
     "name": "stdout",
     "output_type": "stream",
     "text": [
      "ok\n"
     ]
    }
   ],
   "source": [
    "a,b,c=3,4,5\n",
    "if a<b:\n",
    "    print(\"ok\")\n",
    "else:\n",
    "    print(\"not ok\")"
   ]
  },
  {
   "cell_type": "code",
   "execution_count": 73,
   "metadata": {},
   "outputs": [
    {
     "name": "stdout",
     "output_type": "stream",
     "text": [
      "not ok\n"
     ]
    }
   ],
   "source": [
    "if c<b:\n",
    "    print(\"ok\")\n",
    "else:\n",
    "    print(\"not ok\")"
   ]
  },
  {
   "cell_type": "code",
   "execution_count": 75,
   "metadata": {},
   "outputs": [
    {
     "name": "stdout",
     "output_type": "stream",
     "text": [
      "not ok\n"
     ]
    }
   ],
   "source": [
    "if a+b==c:\n",
    "    print(\"ok\")\n",
    "else:\n",
    "    print(\"not ok\")"
   ]
  },
  {
   "cell_type": "code",
   "execution_count": 77,
   "metadata": {},
   "outputs": [
    {
     "name": "stdout",
     "output_type": "stream",
     "text": [
      "ok\n"
     ]
    }
   ],
   "source": [
    " if a**2+b**2==c**2:\n",
    "    print(\"ok\")\n",
    "else:\n",
    "    print(\"not ok\")"
   ]
  },
  {
   "cell_type": "code",
   "execution_count": 81,
   "metadata": {},
   "outputs": [
    {
     "name": "stdout",
     "output_type": "stream",
     "text": [
      "jan\n",
      "feb\n",
      "mar\n"
     ]
    }
   ],
   "source": [
    "lst=['january','february','march']\n",
    "for char in lst:\n",
    "    print (char[:3])"
   ]
  },
  {
   "cell_type": "code",
   "execution_count": 102,
   "metadata": {},
   "outputs": [
    {
     "name": "stdout",
     "output_type": "stream",
     "text": [
      "1 2 3 5 6 7 9 "
     ]
    }
   ],
   "source": [
    "list1=[1,2,3,4,5,6,7,8,9]\n",
    "for num in list1:\n",
    "    if num**2%8:\n",
    "        print(num,end=\" \")"
   ]
  },
  {
   "cell_type": "code",
   "execution_count": 104,
   "metadata": {},
   "outputs": [
    {
     "name": "stdout",
     "output_type": "stream",
     "text": [
      "0\n",
      "1\n"
     ]
    }
   ],
   "source": [
    "for i in range(0,2):\n",
    "    print(i)"
   ]
  },
  {
   "cell_type": "code",
   "execution_count": 106,
   "metadata": {},
   "outputs": [
    {
     "name": "stdout",
     "output_type": "stream",
     "text": [
      "0\n"
     ]
    }
   ],
   "source": [
    "for i in range(0,1):\n",
    "    print(i)"
   ]
  },
  {
   "cell_type": "code",
   "execution_count": 108,
   "metadata": {},
   "outputs": [
    {
     "name": "stdout",
     "output_type": "stream",
     "text": [
      "3\n",
      "4\n",
      "5\n",
      "6\n"
     ]
    }
   ],
   "source": [
    "for i in range(3,7):\n",
    "    print(i)"
   ]
  },
  {
   "cell_type": "code",
   "execution_count": 110,
   "metadata": {},
   "outputs": [
    {
     "name": "stdout",
     "output_type": "stream",
     "text": [
      "1\n"
     ]
    }
   ],
   "source": [
    "for i in range(1,2):\n",
    "    print(i)"
   ]
  },
  {
   "cell_type": "code",
   "execution_count": 112,
   "metadata": {},
   "outputs": [
    {
     "name": "stdout",
     "output_type": "stream",
     "text": [
      "0\n",
      "3\n"
     ]
    }
   ],
   "source": [
    "for i in range(0,4,3):\n",
    "    print(i)"
   ]
  },
  {
   "cell_type": "code",
   "execution_count": 113,
   "metadata": {},
   "outputs": [
    {
     "name": "stdout",
     "output_type": "stream",
     "text": [
      "5\n",
      "9\n",
      "13\n",
      "17\n",
      "21\n"
     ]
    }
   ],
   "source": [
    "for i in range(5,22,4):\n",
    "    print(i) "
   ]
  }
 ],
 "metadata": {
  "kernelspec": {
   "display_name": "Python 3",
   "language": "python",
   "name": "python3"
  },
  "language_info": {
   "codemirror_mode": {
    "name": "ipython",
    "version": 3
   },
   "file_extension": ".py",
   "mimetype": "text/x-python",
   "name": "python",
   "nbconvert_exporter": "python",
   "pygments_lexer": "ipython3",
   "version": "3.7.3"
  }
 },
 "nbformat": 4,
 "nbformat_minor": 2
}
